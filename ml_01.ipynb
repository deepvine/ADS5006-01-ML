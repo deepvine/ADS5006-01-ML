{
  "nbformat": 4,
  "nbformat_minor": 0,
  "metadata": {
    "colab": {
      "name": "ml-01.ipynb",
      "provenance": [],
      "include_colab_link": true
    },
    "kernelspec": {
      "name": "python3",
      "display_name": "Python 3"
    },
    "language_info": {
      "name": "python"
    }
  },
  "cells": [
    {
      "cell_type": "markdown",
      "metadata": {
        "id": "view-in-github",
        "colab_type": "text"
      },
      "source": [
        "<a href=\"https://colab.research.google.com/github/deepvine/ADS5006-01-ML/blob/main/ml_01.ipynb\" target=\"_parent\"><img src=\"https://colab.research.google.com/assets/colab-badge.svg\" alt=\"Open In Colab\"/></a>"
      ]
    },
    {
      "cell_type": "code",
      "source": [
        "!pip install googletrans==4.0.0-rc1"
      ],
      "metadata": {
        "id": "Nvs_rARijwpY",
        "outputId": "3a769ec6-7c18-4606-c2ed-96c19b08df55",
        "colab": {
          "base_uri": "https://localhost:8080/",
          "height": 568
        }
      },
      "execution_count": 19,
      "outputs": [
        {
          "output_type": "stream",
          "name": "stdout",
          "text": [
            "Collecting googletrans==4.0.0-rc1\n",
            "  Downloading googletrans-4.0.0rc1.tar.gz (20 kB)\n",
            "Requirement already satisfied: httpx==0.13.3 in /usr/local/lib/python3.7/dist-packages (from googletrans==4.0.0-rc1) (0.13.3)\n",
            "Requirement already satisfied: hstspreload in /usr/local/lib/python3.7/dist-packages (from httpx==0.13.3->googletrans==4.0.0-rc1) (2021.12.1)\n",
            "Requirement already satisfied: rfc3986<2,>=1.3 in /usr/local/lib/python3.7/dist-packages (from httpx==0.13.3->googletrans==4.0.0-rc1) (1.5.0)\n",
            "Requirement already satisfied: sniffio in /usr/local/lib/python3.7/dist-packages (from httpx==0.13.3->googletrans==4.0.0-rc1) (1.2.0)\n",
            "Requirement already satisfied: idna==2.* in /usr/local/lib/python3.7/dist-packages (from httpx==0.13.3->googletrans==4.0.0-rc1) (2.10)\n",
            "Requirement already satisfied: chardet==3.* in /usr/local/lib/python3.7/dist-packages (from httpx==0.13.3->googletrans==4.0.0-rc1) (3.0.4)\n",
            "Requirement already satisfied: httpcore==0.9.* in /usr/local/lib/python3.7/dist-packages (from httpx==0.13.3->googletrans==4.0.0-rc1) (0.9.1)\n",
            "Requirement already satisfied: certifi in /usr/local/lib/python3.7/dist-packages (from httpx==0.13.3->googletrans==4.0.0-rc1) (2021.10.8)\n",
            "Requirement already satisfied: h2==3.* in /usr/local/lib/python3.7/dist-packages (from httpcore==0.9.*->httpx==0.13.3->googletrans==4.0.0-rc1) (3.2.0)\n",
            "Requirement already satisfied: h11<0.10,>=0.8 in /usr/local/lib/python3.7/dist-packages (from httpcore==0.9.*->httpx==0.13.3->googletrans==4.0.0-rc1) (0.9.0)\n",
            "Requirement already satisfied: hyperframe<6,>=5.2.0 in /usr/local/lib/python3.7/dist-packages (from h2==3.*->httpcore==0.9.*->httpx==0.13.3->googletrans==4.0.0-rc1) (5.2.0)\n",
            "Requirement already satisfied: hpack<4,>=3.0 in /usr/local/lib/python3.7/dist-packages (from h2==3.*->httpcore==0.9.*->httpx==0.13.3->googletrans==4.0.0-rc1) (3.0.0)\n",
            "Building wheels for collected packages: googletrans\n",
            "  Building wheel for googletrans (setup.py) ... \u001b[?25l\u001b[?25hdone\n",
            "  Created wheel for googletrans: filename=googletrans-4.0.0rc1-py3-none-any.whl size=17416 sha256=21eebba067cac0259c835c38f99cca0eb30a82d3521bba705c34ce1abd6874c7\n",
            "  Stored in directory: /root/.cache/pip/wheels/43/34/00/4fe71786ea6d12314b29037620c36d857e5d104ac2748bf82a\n",
            "Successfully built googletrans\n",
            "Installing collected packages: googletrans\n",
            "  Attempting uninstall: googletrans\n",
            "    Found existing installation: googletrans 3.0.0\n",
            "    Uninstalling googletrans-3.0.0:\n",
            "      Successfully uninstalled googletrans-3.0.0\n",
            "Successfully installed googletrans-4.0.0rc1\n"
          ]
        },
        {
          "output_type": "display_data",
          "data": {
            "application/vnd.colab-display-data+json": {
              "pip_warning": {
                "packages": [
                  "googletrans"
                ]
              }
            }
          },
          "metadata": {}
        }
      ]
    },
    {
      "cell_type": "code",
      "execution_count": 1,
      "metadata": {
        "id": "jhiS4CXxPung"
      },
      "outputs": [],
      "source": [
        "import pandas as pd\n",
        "from googletrans import Translator"
      ]
    },
    {
      "cell_type": "code",
      "source": [
        "translator = Translator()"
      ],
      "metadata": {
        "id": "x8cKNNJOkQUO"
      },
      "execution_count": 2,
      "outputs": []
    },
    {
      "cell_type": "code",
      "source": [
        "df = pd.read_csv(\"sample_input_ER.csv\")\n",
        "df"
      ],
      "metadata": {
        "id": "fY444_azjcnu",
        "outputId": "f2899c91-c734-4add-b64b-8ec749ad4fdb",
        "colab": {
          "base_uri": "https://localhost:8080/",
          "height": 363
        }
      },
      "execution_count": 3,
      "outputs": [
        {
          "output_type": "execute_result",
          "data": {
            "text/plain": [
              "    sp_id    rp_id                                        seeker_post  \\\n",
              "0  65m92s  dgbdk7z      Help. Help me. I dunno what I'm doing anymore   \n",
              "1  9ezsfi  e5t3oxh  I'm done saying I love you to her because I do...   \n",
              "2  6b2cmc  dhj8tcb  Always feel like I'm being criticized and mock...   \n",
              "3  8iz0as  dyvq1ne  My diet becomes fucked when i get depressed.. ...   \n",
              "4  aow3l9  eg40ecq  I hate not knowing why. I was diagnosed with d...   \n",
              "5  5aliuq  d9hmspc  Not arsed with school. Can't study or do homew...   \n",
              "6  auo0t4  eh9cb6a  My parents wont allow me to sick medical assis...   \n",
              "7  7oi3es  ds9oti2  I called in sick to work today. For the first ...   \n",
              "8  8r6onw  e0oz7y1  Lost my job, have no reason to live. My career...   \n",
              "9  7gipvi  dqje246  i wanna jump from an elevated place. i wanna k...   \n",
              "\n",
              "                                       response_post  level  \\\n",
              "0  That's pretty vague, do you not know what you'...      0   \n",
              "1  idk what a Red pill means exactly but my advic...      0   \n",
              "2  I think it's social anxiety , that creates par...      0   \n",
              "3  By any chance do you think you're in a loop. J...      0   \n",
              "4  depression. not sadness which is caused by som...      0   \n",
              "5     That's why I'm repeating 11th grade. It sucks.      0   \n",
              "6  Ask your school counselor what resources they ...      0   \n",
              "7  Is that really so bad? Maybe it was the smart ...      1   \n",
              "8               Why can't you get a job as a lawyer?      0   \n",
              "9  I don't want you to jump. I don't want you to ...      1   \n",
              "\n",
              "                                          rationales  \n",
              "0                                                NaN  \n",
              "1                                                NaN  \n",
              "2                                                NaN  \n",
              "3                                                NaN  \n",
              "4                                                NaN  \n",
              "5                                                NaN  \n",
              "6                                                NaN  \n",
              "7                         Hope you feel better soon|  \n",
              "8                                                NaN  \n",
              "9  I don't want you to jump. I don't want you to ...  "
            ],
            "text/html": [
              "\n",
              "  <div id=\"df-9de39cd4-f757-48a1-a43f-47091511be85\">\n",
              "    <div class=\"colab-df-container\">\n",
              "      <div>\n",
              "<style scoped>\n",
              "    .dataframe tbody tr th:only-of-type {\n",
              "        vertical-align: middle;\n",
              "    }\n",
              "\n",
              "    .dataframe tbody tr th {\n",
              "        vertical-align: top;\n",
              "    }\n",
              "\n",
              "    .dataframe thead th {\n",
              "        text-align: right;\n",
              "    }\n",
              "</style>\n",
              "<table border=\"1\" class=\"dataframe\">\n",
              "  <thead>\n",
              "    <tr style=\"text-align: right;\">\n",
              "      <th></th>\n",
              "      <th>sp_id</th>\n",
              "      <th>rp_id</th>\n",
              "      <th>seeker_post</th>\n",
              "      <th>response_post</th>\n",
              "      <th>level</th>\n",
              "      <th>rationales</th>\n",
              "    </tr>\n",
              "  </thead>\n",
              "  <tbody>\n",
              "    <tr>\n",
              "      <th>0</th>\n",
              "      <td>65m92s</td>\n",
              "      <td>dgbdk7z</td>\n",
              "      <td>Help. Help me. I dunno what I'm doing anymore</td>\n",
              "      <td>That's pretty vague, do you not know what you'...</td>\n",
              "      <td>0</td>\n",
              "      <td>NaN</td>\n",
              "    </tr>\n",
              "    <tr>\n",
              "      <th>1</th>\n",
              "      <td>9ezsfi</td>\n",
              "      <td>e5t3oxh</td>\n",
              "      <td>I'm done saying I love you to her because I do...</td>\n",
              "      <td>idk what a Red pill means exactly but my advic...</td>\n",
              "      <td>0</td>\n",
              "      <td>NaN</td>\n",
              "    </tr>\n",
              "    <tr>\n",
              "      <th>2</th>\n",
              "      <td>6b2cmc</td>\n",
              "      <td>dhj8tcb</td>\n",
              "      <td>Always feel like I'm being criticized and mock...</td>\n",
              "      <td>I think it's social anxiety , that creates par...</td>\n",
              "      <td>0</td>\n",
              "      <td>NaN</td>\n",
              "    </tr>\n",
              "    <tr>\n",
              "      <th>3</th>\n",
              "      <td>8iz0as</td>\n",
              "      <td>dyvq1ne</td>\n",
              "      <td>My diet becomes fucked when i get depressed.. ...</td>\n",
              "      <td>By any chance do you think you're in a loop. J...</td>\n",
              "      <td>0</td>\n",
              "      <td>NaN</td>\n",
              "    </tr>\n",
              "    <tr>\n",
              "      <th>4</th>\n",
              "      <td>aow3l9</td>\n",
              "      <td>eg40ecq</td>\n",
              "      <td>I hate not knowing why. I was diagnosed with d...</td>\n",
              "      <td>depression. not sadness which is caused by som...</td>\n",
              "      <td>0</td>\n",
              "      <td>NaN</td>\n",
              "    </tr>\n",
              "    <tr>\n",
              "      <th>5</th>\n",
              "      <td>5aliuq</td>\n",
              "      <td>d9hmspc</td>\n",
              "      <td>Not arsed with school. Can't study or do homew...</td>\n",
              "      <td>That's why I'm repeating 11th grade. It sucks.</td>\n",
              "      <td>0</td>\n",
              "      <td>NaN</td>\n",
              "    </tr>\n",
              "    <tr>\n",
              "      <th>6</th>\n",
              "      <td>auo0t4</td>\n",
              "      <td>eh9cb6a</td>\n",
              "      <td>My parents wont allow me to sick medical assis...</td>\n",
              "      <td>Ask your school counselor what resources they ...</td>\n",
              "      <td>0</td>\n",
              "      <td>NaN</td>\n",
              "    </tr>\n",
              "    <tr>\n",
              "      <th>7</th>\n",
              "      <td>7oi3es</td>\n",
              "      <td>ds9oti2</td>\n",
              "      <td>I called in sick to work today. For the first ...</td>\n",
              "      <td>Is that really so bad? Maybe it was the smart ...</td>\n",
              "      <td>1</td>\n",
              "      <td>Hope you feel better soon|</td>\n",
              "    </tr>\n",
              "    <tr>\n",
              "      <th>8</th>\n",
              "      <td>8r6onw</td>\n",
              "      <td>e0oz7y1</td>\n",
              "      <td>Lost my job, have no reason to live. My career...</td>\n",
              "      <td>Why can't you get a job as a lawyer?</td>\n",
              "      <td>0</td>\n",
              "      <td>NaN</td>\n",
              "    </tr>\n",
              "    <tr>\n",
              "      <th>9</th>\n",
              "      <td>7gipvi</td>\n",
              "      <td>dqje246</td>\n",
              "      <td>i wanna jump from an elevated place. i wanna k...</td>\n",
              "      <td>I don't want you to jump. I don't want you to ...</td>\n",
              "      <td>1</td>\n",
              "      <td>I don't want you to jump. I don't want you to ...</td>\n",
              "    </tr>\n",
              "  </tbody>\n",
              "</table>\n",
              "</div>\n",
              "      <button class=\"colab-df-convert\" onclick=\"convertToInteractive('df-9de39cd4-f757-48a1-a43f-47091511be85')\"\n",
              "              title=\"Convert this dataframe to an interactive table.\"\n",
              "              style=\"display:none;\">\n",
              "        \n",
              "  <svg xmlns=\"http://www.w3.org/2000/svg\" height=\"24px\"viewBox=\"0 0 24 24\"\n",
              "       width=\"24px\">\n",
              "    <path d=\"M0 0h24v24H0V0z\" fill=\"none\"/>\n",
              "    <path d=\"M18.56 5.44l.94 2.06.94-2.06 2.06-.94-2.06-.94-.94-2.06-.94 2.06-2.06.94zm-11 1L8.5 8.5l.94-2.06 2.06-.94-2.06-.94L8.5 2.5l-.94 2.06-2.06.94zm10 10l.94 2.06.94-2.06 2.06-.94-2.06-.94-.94-2.06-.94 2.06-2.06.94z\"/><path d=\"M17.41 7.96l-1.37-1.37c-.4-.4-.92-.59-1.43-.59-.52 0-1.04.2-1.43.59L10.3 9.45l-7.72 7.72c-.78.78-.78 2.05 0 2.83L4 21.41c.39.39.9.59 1.41.59.51 0 1.02-.2 1.41-.59l7.78-7.78 2.81-2.81c.8-.78.8-2.07 0-2.86zM5.41 20L4 18.59l7.72-7.72 1.47 1.35L5.41 20z\"/>\n",
              "  </svg>\n",
              "      </button>\n",
              "      \n",
              "  <style>\n",
              "    .colab-df-container {\n",
              "      display:flex;\n",
              "      flex-wrap:wrap;\n",
              "      gap: 12px;\n",
              "    }\n",
              "\n",
              "    .colab-df-convert {\n",
              "      background-color: #E8F0FE;\n",
              "      border: none;\n",
              "      border-radius: 50%;\n",
              "      cursor: pointer;\n",
              "      display: none;\n",
              "      fill: #1967D2;\n",
              "      height: 32px;\n",
              "      padding: 0 0 0 0;\n",
              "      width: 32px;\n",
              "    }\n",
              "\n",
              "    .colab-df-convert:hover {\n",
              "      background-color: #E2EBFA;\n",
              "      box-shadow: 0px 1px 2px rgba(60, 64, 67, 0.3), 0px 1px 3px 1px rgba(60, 64, 67, 0.15);\n",
              "      fill: #174EA6;\n",
              "    }\n",
              "\n",
              "    [theme=dark] .colab-df-convert {\n",
              "      background-color: #3B4455;\n",
              "      fill: #D2E3FC;\n",
              "    }\n",
              "\n",
              "    [theme=dark] .colab-df-convert:hover {\n",
              "      background-color: #434B5C;\n",
              "      box-shadow: 0px 1px 3px 1px rgba(0, 0, 0, 0.15);\n",
              "      filter: drop-shadow(0px 1px 2px rgba(0, 0, 0, 0.3));\n",
              "      fill: #FFFFFF;\n",
              "    }\n",
              "  </style>\n",
              "\n",
              "      <script>\n",
              "        const buttonEl =\n",
              "          document.querySelector('#df-9de39cd4-f757-48a1-a43f-47091511be85 button.colab-df-convert');\n",
              "        buttonEl.style.display =\n",
              "          google.colab.kernel.accessAllowed ? 'block' : 'none';\n",
              "\n",
              "        async function convertToInteractive(key) {\n",
              "          const element = document.querySelector('#df-9de39cd4-f757-48a1-a43f-47091511be85');\n",
              "          const dataTable =\n",
              "            await google.colab.kernel.invokeFunction('convertToInteractive',\n",
              "                                                     [key], {});\n",
              "          if (!dataTable) return;\n",
              "\n",
              "          const docLinkHtml = 'Like what you see? Visit the ' +\n",
              "            '<a target=\"_blank\" href=https://colab.research.google.com/notebooks/data_table.ipynb>data table notebook</a>'\n",
              "            + ' to learn more about interactive tables.';\n",
              "          element.innerHTML = '';\n",
              "          dataTable['output_type'] = 'display_data';\n",
              "          await google.colab.output.renderOutput(dataTable, element);\n",
              "          const docLink = document.createElement('div');\n",
              "          docLink.innerHTML = docLinkHtml;\n",
              "          element.appendChild(docLink);\n",
              "        }\n",
              "      </script>\n",
              "    </div>\n",
              "  </div>\n",
              "  "
            ]
          },
          "metadata": {},
          "execution_count": 3
        }
      ]
    },
    {
      "cell_type": "code",
      "source": [
        "sposts = df[\"seeker_post\"]"
      ],
      "metadata": {
        "id": "MbjZJCHujh9v"
      },
      "execution_count": 13,
      "outputs": []
    },
    {
      "cell_type": "code",
      "source": [
        "sposts[0]"
      ],
      "metadata": {
        "id": "ByeK8d48kXNP",
        "outputId": "14411126-d7ab-47c6-958c-f6f30bc775ad",
        "colab": {
          "base_uri": "https://localhost:8080/",
          "height": 35
        }
      },
      "execution_count": 5,
      "outputs": [
        {
          "output_type": "execute_result",
          "data": {
            "text/plain": [
              "\"Help. Help me. I dunno what I'm doing anymore\""
            ],
            "application/vnd.google.colaboratory.intrinsic+json": {
              "type": "string"
            }
          },
          "metadata": {},
          "execution_count": 5
        }
      ]
    },
    {
      "cell_type": "code",
      "source": [
        "result = translator.translate(\"Help. Help me. I dunno what I'm doing anymore\", dest=\"ko\")"
      ],
      "metadata": {
        "id": "oh-aXcGxjmC2"
      },
      "execution_count": 6,
      "outputs": []
    },
    {
      "cell_type": "code",
      "source": [
        "result.text"
      ],
      "metadata": {
        "id": "E4z2mqT4kbG3",
        "outputId": "80c8325e-543b-4c59-cd8b-71b9f5714b25",
        "colab": {
          "base_uri": "https://localhost:8080/",
          "height": 35
        }
      },
      "execution_count": 12,
      "outputs": [
        {
          "output_type": "execute_result",
          "data": {
            "text/plain": [
              "'돕다.도와 줘요.나는 더 이상하고있는 일을 던지니다'"
            ],
            "application/vnd.google.colaboratory.intrinsic+json": {
              "type": "string"
            }
          },
          "metadata": {},
          "execution_count": 12
        }
      ]
    },
    {
      "cell_type": "code",
      "source": [
        "seeker_post = []"
      ],
      "metadata": {
        "id": "rHdcIos5lrM3"
      },
      "execution_count": 14,
      "outputs": []
    },
    {
      "cell_type": "code",
      "source": [
        "for spost in sposts:\n",
        "  result = translator.translate(spost, dest=\"ko\")\n",
        "  seeker_post.append(result.text)"
      ],
      "metadata": {
        "id": "bkHVUNGblSOQ"
      },
      "execution_count": 15,
      "outputs": []
    },
    {
      "cell_type": "code",
      "source": [
        "seeker_post"
      ],
      "metadata": {
        "id": "Ve1DSoTilyp_",
        "outputId": "35177167-aee3-4af0-b6aa-d5e9b818329b",
        "colab": {
          "base_uri": "https://localhost:8080/"
        }
      },
      "execution_count": 16,
      "outputs": [
        {
          "output_type": "execute_result",
          "data": {
            "text/plain": [
              "['돕다.도와 줘요.나는 더 이상하고있는 일을 던지니다',\n",
              " '나는 내가 그녀를 사랑한다고 말하면서, 나는 나에게 거짓말을 듣고 싶지 않기 때문에 당신을 사랑합니다.나는 너무 추악하고 원치 않는 것으로 느끼고 불안했습니다',\n",
              " '항상 혼자서 비판하고 조롱하고있는 것처럼 느껴집니다 .... 다른 사람이 이것을 경험합니까?',\n",
              " '내가 저지를받을 때 나의 식단은 망할 것이라. 나는 식료품 가게에서 나 자신을 통제 할 수 없다.칩, 쿠키, 소다, 케이크, 당신은 그것의 이름을 지정합니다.누구든지 스트레스 먹는 사람?',\n",
              " '나는 이유를 알지 못하는 것을 싫어합니다.나는 우울증과 불안으로 진단 받았을 때 진단 받았습니다. 거의 4 년 전이고 왜 내가 이런 이유로 내가 왜 그렇게하는지 모르겠습니다.나는 충분히 가지고 있지만, 나는 희망이나 밝은 미래가 나를 기다리고있는 희망이없는 순간이 있습니다.나는 내가 누가 우울하고 때로는 이렇게 좋아한다는 것을 알고있는 친구가 있음에도 불구하고 혼자서 버려졌습니다.나는 왜 내가 정상 일 수 없는지 알 수 없을 때 너무 좌절감을 느낀다.모든 것이 약 2 시간 전에 괜찮 았지만, 나는 너무 빨리 변화하고 자살을 거의 느끼게합니다.나는 빌어 먹을 엉망이야 ...',\n",
              " '학교에 arsed하지 마라.공부하거나 숙제 할 수 없거나 숙제를 할 수 없습니다. 우리 가족은 지금 나쁜 방법이고 나는 정신적으로 나쁜 방식으로 나쁜 것입니다.나는 단지 더 이상 학교에 관심이 없다.희망이없는 느낌',\n",
              " '부모님은 내 우울증이 BS라고 생각하기 때문에 아픈 의료 지원을 할 수 없습니다.제목.나는 16 살이고 돈이 없어.무엇을해야합니까?',\n",
              " '나는 오늘 아프다고 불렀다.몇 달 동안 처음으로 나는 기분이 좋았다. 나는 오늘 내 일자리 둘 다로 불렀다.그냥 너무 불타는 느낌이지만, 나는 많이 잤고, 꽤 조금 읽혀서 마침내 샤워를 할 수 있도록 관리하였습니다.',\n",
              " '내 일을 잃어 버리고, 살 필요가 없습니다.내 경력이 끝났어, 나의 개인적인 관계는 간신히 존재하며, 내가하는 친구들은 멀리 살고 있습니다.나는 살아야 할 이유가없고, 직업 전망이없고 치료를 할 수있는 방법이 없습니다.기적이 일어나지 않는 한 곧 자신을 죽일 것입니다.',\n",
              " '나는 상승 된 장소에서 뛰어 내리고 싶다.나는 정말로 정말로 상승 된 장소에서 뛰어 내리고 싶지만 죽지 않는 것처럼 정말로 나 자신을 죽이고 싶습니다.약제?땅 위로 멀리 떨어져 있지 않은 어딘가에서 가을 (4 미터 점프)?너는 그저 죽고 싶지만 나는 그 이외의 GR8 생명을 가지고있다.']"
            ]
          },
          "metadata": {},
          "execution_count": 16
        }
      ]
    },
    {
      "cell_type": "code",
      "source": [
        ""
      ],
      "metadata": {
        "id": "g42dqGgqlz8_"
      },
      "execution_count": null,
      "outputs": []
    }
  ]
}